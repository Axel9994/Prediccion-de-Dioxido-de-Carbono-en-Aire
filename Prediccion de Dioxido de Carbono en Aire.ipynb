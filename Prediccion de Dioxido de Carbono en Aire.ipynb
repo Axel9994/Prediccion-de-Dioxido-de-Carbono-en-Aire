{
 "cells": [
  {
   "cell_type": "markdown",
   "metadata": {},
   "source": [
    "# Prediccion de Dioxido de Carbono en Aire\n",
    "## Importar Librerias Necesarias"
   ]
  },
  {
   "cell_type": "code",
   "execution_count": 1,
   "metadata": {},
   "outputs": [],
   "source": [
    "import pandas as pd\n",
    "import numpy as np\n",
    "import matplotlib.pyplot as plt\n",
    "from sklearn import linear_model\n",
    "from sklearn.metrics import mean_squared_error, r2_score"
   ]
  },
  {
   "cell_type": "markdown",
   "metadata": {},
   "source": [
    "## Cargar el Archivo"
   ]
  },
  {
   "cell_type": "code",
   "execution_count": 62,
   "metadata": {},
   "outputs": [],
   "source": [
    "air_quality = pd.read_csv('AirQualityUCI.csv', sep=\";\")"
   ]
  },
  {
   "cell_type": "markdown",
   "metadata": {},
   "source": [
    "## Tratamiento de los Datos"
   ]
  },
  {
   "cell_type": "code",
   "execution_count": 34,
   "metadata": {},
   "outputs": [
    {
     "data": {
      "text/plain": [
       "Index(['Date', 'Time', 'CO(GT)', 'PT08.S1(CO)', 'NMHC(GT)', 'C6H6(GT)',\n",
       "       'PT08.S2(NMHC)', 'NOx(GT)', 'PT08.S3(NOx)', 'NO2(GT)', 'PT08.S4(NO2)',\n",
       "       'PT08.S5(O3)', 'T', 'RH', 'AH', 'Unnamed: 15', 'Unnamed: 16'],\n",
       "      dtype='object')"
      ]
     },
     "execution_count": 34,
     "metadata": {},
     "output_type": "execute_result"
    }
   ],
   "source": [
    "air_quality.columns"
   ]
  },
  {
   "cell_type": "code",
   "execution_count": 35,
   "metadata": {},
   "outputs": [
    {
     "data": {
      "text/plain": [
       "(9471, 17)"
      ]
     },
     "execution_count": 35,
     "metadata": {},
     "output_type": "execute_result"
    }
   ],
   "source": [
    "air_quality.shape"
   ]
  },
  {
   "cell_type": "code",
   "execution_count": 36,
   "metadata": {},
   "outputs": [
    {
     "data": {
      "text/html": [
       "<div>\n",
       "<style scoped>\n",
       "    .dataframe tbody tr th:only-of-type {\n",
       "        vertical-align: middle;\n",
       "    }\n",
       "\n",
       "    .dataframe tbody tr th {\n",
       "        vertical-align: top;\n",
       "    }\n",
       "\n",
       "    .dataframe thead th {\n",
       "        text-align: right;\n",
       "    }\n",
       "</style>\n",
       "<table border=\"1\" class=\"dataframe\">\n",
       "  <thead>\n",
       "    <tr style=\"text-align: right;\">\n",
       "      <th></th>\n",
       "      <th>Date</th>\n",
       "      <th>Time</th>\n",
       "      <th>CO(GT)</th>\n",
       "      <th>PT08.S1(CO)</th>\n",
       "      <th>NMHC(GT)</th>\n",
       "      <th>C6H6(GT)</th>\n",
       "      <th>PT08.S2(NMHC)</th>\n",
       "      <th>NOx(GT)</th>\n",
       "      <th>PT08.S3(NOx)</th>\n",
       "      <th>NO2(GT)</th>\n",
       "      <th>PT08.S4(NO2)</th>\n",
       "      <th>PT08.S5(O3)</th>\n",
       "      <th>T</th>\n",
       "      <th>RH</th>\n",
       "      <th>AH</th>\n",
       "      <th>Unnamed: 15</th>\n",
       "      <th>Unnamed: 16</th>\n",
       "    </tr>\n",
       "  </thead>\n",
       "  <tbody>\n",
       "    <tr>\n",
       "      <td>0</td>\n",
       "      <td>10/03/2004</td>\n",
       "      <td>18.00.00</td>\n",
       "      <td>2,6</td>\n",
       "      <td>1360.0</td>\n",
       "      <td>150.0</td>\n",
       "      <td>11,9</td>\n",
       "      <td>1046.0</td>\n",
       "      <td>166.0</td>\n",
       "      <td>1056.0</td>\n",
       "      <td>113.0</td>\n",
       "      <td>1692.0</td>\n",
       "      <td>1268.0</td>\n",
       "      <td>13,6</td>\n",
       "      <td>48,9</td>\n",
       "      <td>0,7578</td>\n",
       "      <td>NaN</td>\n",
       "      <td>NaN</td>\n",
       "    </tr>\n",
       "    <tr>\n",
       "      <td>1</td>\n",
       "      <td>10/03/2004</td>\n",
       "      <td>19.00.00</td>\n",
       "      <td>2</td>\n",
       "      <td>1292.0</td>\n",
       "      <td>112.0</td>\n",
       "      <td>9,4</td>\n",
       "      <td>955.0</td>\n",
       "      <td>103.0</td>\n",
       "      <td>1174.0</td>\n",
       "      <td>92.0</td>\n",
       "      <td>1559.0</td>\n",
       "      <td>972.0</td>\n",
       "      <td>13,3</td>\n",
       "      <td>47,7</td>\n",
       "      <td>0,7255</td>\n",
       "      <td>NaN</td>\n",
       "      <td>NaN</td>\n",
       "    </tr>\n",
       "    <tr>\n",
       "      <td>2</td>\n",
       "      <td>10/03/2004</td>\n",
       "      <td>20.00.00</td>\n",
       "      <td>2,2</td>\n",
       "      <td>1402.0</td>\n",
       "      <td>88.0</td>\n",
       "      <td>9,0</td>\n",
       "      <td>939.0</td>\n",
       "      <td>131.0</td>\n",
       "      <td>1140.0</td>\n",
       "      <td>114.0</td>\n",
       "      <td>1555.0</td>\n",
       "      <td>1074.0</td>\n",
       "      <td>11,9</td>\n",
       "      <td>54,0</td>\n",
       "      <td>0,7502</td>\n",
       "      <td>NaN</td>\n",
       "      <td>NaN</td>\n",
       "    </tr>\n",
       "    <tr>\n",
       "      <td>3</td>\n",
       "      <td>10/03/2004</td>\n",
       "      <td>21.00.00</td>\n",
       "      <td>2,2</td>\n",
       "      <td>1376.0</td>\n",
       "      <td>80.0</td>\n",
       "      <td>9,2</td>\n",
       "      <td>948.0</td>\n",
       "      <td>172.0</td>\n",
       "      <td>1092.0</td>\n",
       "      <td>122.0</td>\n",
       "      <td>1584.0</td>\n",
       "      <td>1203.0</td>\n",
       "      <td>11,0</td>\n",
       "      <td>60,0</td>\n",
       "      <td>0,7867</td>\n",
       "      <td>NaN</td>\n",
       "      <td>NaN</td>\n",
       "    </tr>\n",
       "    <tr>\n",
       "      <td>4</td>\n",
       "      <td>10/03/2004</td>\n",
       "      <td>22.00.00</td>\n",
       "      <td>1,6</td>\n",
       "      <td>1272.0</td>\n",
       "      <td>51.0</td>\n",
       "      <td>6,5</td>\n",
       "      <td>836.0</td>\n",
       "      <td>131.0</td>\n",
       "      <td>1205.0</td>\n",
       "      <td>116.0</td>\n",
       "      <td>1490.0</td>\n",
       "      <td>1110.0</td>\n",
       "      <td>11,2</td>\n",
       "      <td>59,6</td>\n",
       "      <td>0,7888</td>\n",
       "      <td>NaN</td>\n",
       "      <td>NaN</td>\n",
       "    </tr>\n",
       "    <tr>\n",
       "      <td>5</td>\n",
       "      <td>10/03/2004</td>\n",
       "      <td>23.00.00</td>\n",
       "      <td>1,2</td>\n",
       "      <td>1197.0</td>\n",
       "      <td>38.0</td>\n",
       "      <td>4,7</td>\n",
       "      <td>750.0</td>\n",
       "      <td>89.0</td>\n",
       "      <td>1337.0</td>\n",
       "      <td>96.0</td>\n",
       "      <td>1393.0</td>\n",
       "      <td>949.0</td>\n",
       "      <td>11,2</td>\n",
       "      <td>59,2</td>\n",
       "      <td>0,7848</td>\n",
       "      <td>NaN</td>\n",
       "      <td>NaN</td>\n",
       "    </tr>\n",
       "    <tr>\n",
       "      <td>6</td>\n",
       "      <td>11/03/2004</td>\n",
       "      <td>00.00.00</td>\n",
       "      <td>1,2</td>\n",
       "      <td>1185.0</td>\n",
       "      <td>31.0</td>\n",
       "      <td>3,6</td>\n",
       "      <td>690.0</td>\n",
       "      <td>62.0</td>\n",
       "      <td>1462.0</td>\n",
       "      <td>77.0</td>\n",
       "      <td>1333.0</td>\n",
       "      <td>733.0</td>\n",
       "      <td>11,3</td>\n",
       "      <td>56,8</td>\n",
       "      <td>0,7603</td>\n",
       "      <td>NaN</td>\n",
       "      <td>NaN</td>\n",
       "    </tr>\n",
       "    <tr>\n",
       "      <td>7</td>\n",
       "      <td>11/03/2004</td>\n",
       "      <td>01.00.00</td>\n",
       "      <td>1</td>\n",
       "      <td>1136.0</td>\n",
       "      <td>31.0</td>\n",
       "      <td>3,3</td>\n",
       "      <td>672.0</td>\n",
       "      <td>62.0</td>\n",
       "      <td>1453.0</td>\n",
       "      <td>76.0</td>\n",
       "      <td>1333.0</td>\n",
       "      <td>730.0</td>\n",
       "      <td>10,7</td>\n",
       "      <td>60,0</td>\n",
       "      <td>0,7702</td>\n",
       "      <td>NaN</td>\n",
       "      <td>NaN</td>\n",
       "    </tr>\n",
       "    <tr>\n",
       "      <td>8</td>\n",
       "      <td>11/03/2004</td>\n",
       "      <td>02.00.00</td>\n",
       "      <td>0,9</td>\n",
       "      <td>1094.0</td>\n",
       "      <td>24.0</td>\n",
       "      <td>2,3</td>\n",
       "      <td>609.0</td>\n",
       "      <td>45.0</td>\n",
       "      <td>1579.0</td>\n",
       "      <td>60.0</td>\n",
       "      <td>1276.0</td>\n",
       "      <td>620.0</td>\n",
       "      <td>10,7</td>\n",
       "      <td>59,7</td>\n",
       "      <td>0,7648</td>\n",
       "      <td>NaN</td>\n",
       "      <td>NaN</td>\n",
       "    </tr>\n",
       "    <tr>\n",
       "      <td>9</td>\n",
       "      <td>11/03/2004</td>\n",
       "      <td>03.00.00</td>\n",
       "      <td>0,6</td>\n",
       "      <td>1010.0</td>\n",
       "      <td>19.0</td>\n",
       "      <td>1,7</td>\n",
       "      <td>561.0</td>\n",
       "      <td>-200.0</td>\n",
       "      <td>1705.0</td>\n",
       "      <td>-200.0</td>\n",
       "      <td>1235.0</td>\n",
       "      <td>501.0</td>\n",
       "      <td>10,3</td>\n",
       "      <td>60,2</td>\n",
       "      <td>0,7517</td>\n",
       "      <td>NaN</td>\n",
       "      <td>NaN</td>\n",
       "    </tr>\n",
       "  </tbody>\n",
       "</table>\n",
       "</div>"
      ],
      "text/plain": [
       "         Date      Time CO(GT)  PT08.S1(CO)  NMHC(GT) C6H6(GT)  PT08.S2(NMHC)  \\\n",
       "0  10/03/2004  18.00.00    2,6       1360.0     150.0     11,9         1046.0   \n",
       "1  10/03/2004  19.00.00      2       1292.0     112.0      9,4          955.0   \n",
       "2  10/03/2004  20.00.00    2,2       1402.0      88.0      9,0          939.0   \n",
       "3  10/03/2004  21.00.00    2,2       1376.0      80.0      9,2          948.0   \n",
       "4  10/03/2004  22.00.00    1,6       1272.0      51.0      6,5          836.0   \n",
       "5  10/03/2004  23.00.00    1,2       1197.0      38.0      4,7          750.0   \n",
       "6  11/03/2004  00.00.00    1,2       1185.0      31.0      3,6          690.0   \n",
       "7  11/03/2004  01.00.00      1       1136.0      31.0      3,3          672.0   \n",
       "8  11/03/2004  02.00.00    0,9       1094.0      24.0      2,3          609.0   \n",
       "9  11/03/2004  03.00.00    0,6       1010.0      19.0      1,7          561.0   \n",
       "\n",
       "   NOx(GT)  PT08.S3(NOx)  NO2(GT)  PT08.S4(NO2)  PT08.S5(O3)     T    RH  \\\n",
       "0    166.0        1056.0    113.0        1692.0       1268.0  13,6  48,9   \n",
       "1    103.0        1174.0     92.0        1559.0        972.0  13,3  47,7   \n",
       "2    131.0        1140.0    114.0        1555.0       1074.0  11,9  54,0   \n",
       "3    172.0        1092.0    122.0        1584.0       1203.0  11,0  60,0   \n",
       "4    131.0        1205.0    116.0        1490.0       1110.0  11,2  59,6   \n",
       "5     89.0        1337.0     96.0        1393.0        949.0  11,2  59,2   \n",
       "6     62.0        1462.0     77.0        1333.0        733.0  11,3  56,8   \n",
       "7     62.0        1453.0     76.0        1333.0        730.0  10,7  60,0   \n",
       "8     45.0        1579.0     60.0        1276.0        620.0  10,7  59,7   \n",
       "9   -200.0        1705.0   -200.0        1235.0        501.0  10,3  60,2   \n",
       "\n",
       "       AH  Unnamed: 15  Unnamed: 16  \n",
       "0  0,7578          NaN          NaN  \n",
       "1  0,7255          NaN          NaN  \n",
       "2  0,7502          NaN          NaN  \n",
       "3  0,7867          NaN          NaN  \n",
       "4  0,7888          NaN          NaN  \n",
       "5  0,7848          NaN          NaN  \n",
       "6  0,7603          NaN          NaN  \n",
       "7  0,7702          NaN          NaN  \n",
       "8  0,7648          NaN          NaN  \n",
       "9  0,7517          NaN          NaN  "
      ]
     },
     "execution_count": 36,
     "metadata": {},
     "output_type": "execute_result"
    }
   ],
   "source": [
    "air_quality.head(10)"
   ]
  },
  {
   "cell_type": "code",
   "execution_count": 47,
   "metadata": {},
   "outputs": [
    {
     "data": {
      "text/plain": [
       "Date              object\n",
       "Time              object\n",
       "CO(GT)            object\n",
       "PT08.S1(CO)      float64\n",
       "NMHC(GT)         float64\n",
       "C6H6(GT)          object\n",
       "PT08.S2(NMHC)    float64\n",
       "NOx(GT)          float64\n",
       "PT08.S3(NOx)     float64\n",
       "NO2(GT)          float64\n",
       "PT08.S4(NO2)     float64\n",
       "PT08.S5(O3)      float64\n",
       "T                 object\n",
       "RH                object\n",
       "AH                object\n",
       "Unnamed: 15      float64\n",
       "Unnamed: 16      float64\n",
       "dtype: object"
      ]
     },
     "execution_count": 47,
     "metadata": {},
     "output_type": "execute_result"
    }
   ],
   "source": [
    "air_quality.dtypes"
   ]
  },
  {
   "cell_type": "code",
   "execution_count": 64,
   "metadata": {},
   "outputs": [
    {
     "data": {
      "text/plain": [
       "0       3.0\n",
       "1       3.0\n",
       "2       3.0\n",
       "3       3.0\n",
       "4       3.0\n",
       "       ... \n",
       "9466    NaN\n",
       "9467    NaN\n",
       "9468    NaN\n",
       "9469    NaN\n",
       "9470    NaN\n",
       "Name: Month, Length: 9471, dtype: float64"
      ]
     },
     "execution_count": 64,
     "metadata": {},
     "output_type": "execute_result"
    }
   ],
   "source": [
    "air_quality['Date'] = pd.to_datetime(air_quality['Date'])\n",
    "air_quality['Month'] = air_quality['Date'].dt.day #Fecha Formato Americano\n",
    "air_quality['Month']"
   ]
  },
  {
   "cell_type": "code",
   "execution_count": 65,
   "metadata": {},
   "outputs": [
    {
     "data": {
      "text/plain": [
       "0       18\n",
       "1       19\n",
       "2       20\n",
       "3       21\n",
       "4       22\n",
       "        ..\n",
       "9466    na\n",
       "9467    na\n",
       "9468    na\n",
       "9469    na\n",
       "9470    na\n",
       "Name: Hour, Length: 9471, dtype: object"
      ]
     },
     "execution_count": 65,
     "metadata": {},
     "output_type": "execute_result"
    }
   ],
   "source": [
    "air_quality['Time'] = air_quality['Time'].astype(str)\n",
    "\n",
    "horas = []\n",
    "\n",
    "for hora in air_quality['Time']:\n",
    "    horas.append(hora[:2])\n",
    "\n",
    "air_quality['Hour'] = horas\n",
    "air_quality['Hour']"
   ]
  },
  {
   "cell_type": "code",
   "execution_count": 66,
   "metadata": {},
   "outputs": [],
   "source": [
    "air_quality = air_quality[['Month', 'Hour', 'CO(GT)', 'T', 'RH', 'AH']]\n",
    "air_quality.dropna(axis = 0, inplace = True)"
   ]
  },
  {
   "cell_type": "code",
   "execution_count": 67,
   "metadata": {},
   "outputs": [
    {
     "data": {
      "text/plain": [
       "(9357, 6)"
      ]
     },
     "execution_count": 67,
     "metadata": {},
     "output_type": "execute_result"
    }
   ],
   "source": [
    "air_quality.shape"
   ]
  },
  {
   "cell_type": "code",
   "execution_count": null,
   "metadata": {},
   "outputs": [],
   "source": []
  }
 ],
 "metadata": {
  "kernelspec": {
   "display_name": "Python 3",
   "language": "python",
   "name": "python3"
  },
  "language_info": {
   "codemirror_mode": {
    "name": "ipython",
    "version": 3
   },
   "file_extension": ".py",
   "mimetype": "text/x-python",
   "name": "python",
   "nbconvert_exporter": "python",
   "pygments_lexer": "ipython3",
   "version": "3.7.4"
  }
 },
 "nbformat": 4,
 "nbformat_minor": 2
}
